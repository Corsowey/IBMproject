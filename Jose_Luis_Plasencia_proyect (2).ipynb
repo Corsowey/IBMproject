{
 "cells": [
  {
   "cell_type": "code",
   "execution_count": null,
   "id": "5ce9ebe4-0ec6-4386-9f04-d1f40d9b9d1e",
   "metadata": {},
   "outputs": [],
   "source": [
    "# Proyecto Final de Ciencia de Datos\n",
    "\n"
   ]
  },
  {
   "cell_type": "code",
   "execution_count": null,
   "id": "ceaf64b7-933d-4d0a-b746-a103a0d927dc",
   "metadata": {},
   "outputs": [],
   "source": [
    "## Introducción\n",
    "Este cuaderno tiene como objetivo demostrar las habilidades aprendidas en el curso de Ciencia de Datos."
   ]
  },
  {
   "cell_type": "code",
   "execution_count": null,
   "id": "0f3e6e03-8efb-4d7b-becf-a8608ef5189f",
   "metadata": {},
   "outputs": [],
   "source": [
    "## Lenguajes de Ciencia de Datos\n",
    "1. Python\n",
    "2. R\n",
    "3. SQL\n",
    "4. Julia\n",
    "5. Scala"
   ]
  },
  {
   "cell_type": "code",
   "execution_count": null,
   "id": "c753c1d1-7326-4c27-b440-b4dcd8ec4b5c",
   "metadata": {},
   "outputs": [],
   "source": [
    "## Bibliotecas de Ciencia de Datos\n",
    "- NumPy\n",
    "- Pandas\n",
    "- Matplotlib\n",
    "- Scikit-learn\n",
    "- TensorFlow"
   ]
  },
  {
   "cell_type": "code",
   "execution_count": 11,
   "id": "f01f2dbf-37b8-4e0a-bc2c-93720de7ede9",
   "metadata": {},
   "outputs": [],
   "source": [
    "## Ejemplos de Expresiones Aritméticas\n",
    "Suma: 3 + 2 = 5\n",
    "Multiplicación: 4 * 6 = 24"
   ]
  },
  {
   "cell_type": "code",
   "execution_count": 1,
   "id": "9cad0945-bf37-4bba-82c5-6106a4695fad",
   "metadata": {},
   "outputs": [
    {
     "name": "stdout",
     "output_type": "stream",
     "text": [
      "Multiplicación: 12\n",
      "Suma: 11\n"
     ]
    }
   ],
   "source": [
    "# Multiplicar y sumar\n",
    "multiplicacion = 3 * 4\n",
    "suma = 5 + 6\n",
    "print(\"Multiplicación:\", multiplicacion)\n",
    "print(\"Suma:\", suma)\n"
   ]
  },
  {
   "cell_type": "code",
   "execution_count": 3,
   "id": "23dc019a-9e22-4e1f-8051-ff8991837bef",
   "metadata": {},
   "outputs": [
    {
     "name": "stdout",
     "output_type": "stream",
     "text": [
      "120 minutos equivalen a 2.0 horas.\n"
     ]
    }
   ],
   "source": [
    "# Convertir minutos a horas\n",
    "minutos = 120\n",
    "horas = minutos / 60\n",
    "print(f\"{minutos} minutos equivalen a {horas} horas.\")"
   ]
  },
  {
   "cell_type": "code",
   "execution_count": 19,
   "id": "e974de8d-cda3-435d-9ca5-3ebb36100d63",
   "metadata": {},
   "outputs": [
    {
     "name": "stdout",
     "output_type": "stream",
     "text": [
      "Aprender Python\n",
      "Entender la ciencia de datos\n",
      "Aplicar modelos de Machine Learning\n"
     ]
    }
   ],
   "source": [
    "# Objetivos\n",
    "objetivos = [\"Aprender Python\", \"Entender la ciencia de datos\", \"Aplicar modelos de Machine Learning\"]\n",
    "for objetivo in objetivos:\n",
    "    print(objetivo)"
   ]
  },
  {
   "cell_type": "code",
   "execution_count": null,
   "id": "76509c15-dac3-4559-b3b0-ad7605e78487",
   "metadata": {},
   "outputs": [],
   "source": [
    "## Autor\n",
    "Nombre del autor: [Jose Luis Plasencia Prieto]"
   ]
  }
 ],
 "metadata": {
  "kernelspec": {
   "display_name": "Python 3 (ipykernel)",
   "language": "python",
   "name": "python3"
  },
  "language_info": {
   "codemirror_mode": {
    "name": "ipython",
    "version": 3
   },
   "file_extension": ".py",
   "mimetype": "text/x-python",
   "name": "python",
   "nbconvert_exporter": "python",
   "pygments_lexer": "ipython3",
   "version": "3.12.4"
  }
 },
 "nbformat": 4,
 "nbformat_minor": 5
}
